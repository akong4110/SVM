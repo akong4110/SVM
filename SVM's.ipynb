{
 "cells": [
  {
   "cell_type": "markdown",
   "metadata": {},
   "source": [
    "# Appendix January 22, 2020"
   ]
  },
  {
   "cell_type": "markdown",
   "metadata": {},
   "source": [
    "# CS189 HW1 PART 1-2"
   ]
  },
  {
   "cell_type": "markdown",
   "metadata": {},
   "source": [
    "(a) For the MNIST dataset, write code that sets aside 10,000 training images as a validation set."
   ]
  },
  {
   "cell_type": "code",
   "execution_count": 2,
   "metadata": {},
   "outputs": [],
   "source": [
    "import numpy as np\n",
    "import matplotlib.pyplot as plt\n",
    "import scipy.io\n",
    "%matplotlib inline"
   ]
  },
  {
   "cell_type": "code",
   "execution_count": 3,
   "metadata": {},
   "outputs": [],
   "source": [
    "mnist = scipy.io.loadmat('mnist_data.mat')"
   ]
  },
  {
   "cell_type": "code",
   "execution_count": 4,
   "metadata": {},
   "outputs": [
    {
     "data": {
      "text/plain": [
       "['training_labels',\n",
       " '__header__',\n",
       " '__globals__',\n",
       " 'test_data',\n",
       " 'training_data',\n",
       " '__version__']"
      ]
     },
     "execution_count": 4,
     "metadata": {},
     "output_type": "execute_result"
    }
   ],
   "source": [
    "mnist.keys()\n",
    "#mnist['training_data'][0]"
   ]
  },
  {
   "cell_type": "code",
   "execution_count": 5,
   "metadata": {},
   "outputs": [
    {
     "data": {
      "text/plain": [
       "array([  0,   3,  18, 126, 136, 175,  26, 166, 255, 247, 127,  30,  36,\n",
       "        94, 154, 170, 253, 225, 172, 242, 195,  64,  49, 238, 251,  93,\n",
       "        82,  56,  39, 219, 198, 182, 241,  80, 156, 107, 205,  11,  43,\n",
       "        14,   1,  90, 139, 190,   2,  70,  35, 160, 108,  81, 240, 119,\n",
       "        25,  45, 186, 150,  27,  16, 252, 187, 249,  46, 130, 183, 207,\n",
       "       148, 229, 250,  24, 114, 221, 201,  78,  23,  66, 213, 171,   9,\n",
       "        55, 226, 244, 133, 212, 135, 132], dtype=uint64)"
      ]
     },
     "execution_count": 5,
     "metadata": {},
     "output_type": "execute_result"
    }
   ],
   "source": [
    "import pandas as pd\n",
    "\n",
    "mnist_df = pd.DataFrame(mnist['training_data'])\n",
    "mnist_df.iloc[0].unique()"
   ]
  },
  {
   "cell_type": "code",
   "execution_count": 6,
   "metadata": {},
   "outputs": [
    {
     "data": {
      "text/html": [
       "<div>\n",
       "<style scoped>\n",
       "    .dataframe tbody tr th:only-of-type {\n",
       "        vertical-align: middle;\n",
       "    }\n",
       "\n",
       "    .dataframe tbody tr th {\n",
       "        vertical-align: top;\n",
       "    }\n",
       "\n",
       "    .dataframe thead th {\n",
       "        text-align: right;\n",
       "    }\n",
       "</style>\n",
       "<table border=\"1\" class=\"dataframe\">\n",
       "  <thead>\n",
       "    <tr style=\"text-align: right;\">\n",
       "      <th></th>\n",
       "      <th>0</th>\n",
       "      <th>1</th>\n",
       "      <th>2</th>\n",
       "      <th>3</th>\n",
       "      <th>4</th>\n",
       "      <th>5</th>\n",
       "      <th>6</th>\n",
       "      <th>7</th>\n",
       "      <th>8</th>\n",
       "      <th>9</th>\n",
       "      <th>...</th>\n",
       "      <th>774</th>\n",
       "      <th>775</th>\n",
       "      <th>776</th>\n",
       "      <th>777</th>\n",
       "      <th>778</th>\n",
       "      <th>779</th>\n",
       "      <th>780</th>\n",
       "      <th>781</th>\n",
       "      <th>782</th>\n",
       "      <th>783</th>\n",
       "    </tr>\n",
       "  </thead>\n",
       "  <tbody>\n",
       "    <tr>\n",
       "      <th>1532</th>\n",
       "      <td>0</td>\n",
       "      <td>0</td>\n",
       "      <td>0</td>\n",
       "      <td>0</td>\n",
       "      <td>0</td>\n",
       "      <td>0</td>\n",
       "      <td>0</td>\n",
       "      <td>0</td>\n",
       "      <td>0</td>\n",
       "      <td>0</td>\n",
       "      <td>...</td>\n",
       "      <td>0</td>\n",
       "      <td>0</td>\n",
       "      <td>0</td>\n",
       "      <td>0</td>\n",
       "      <td>0</td>\n",
       "      <td>0</td>\n",
       "      <td>0</td>\n",
       "      <td>0</td>\n",
       "      <td>0</td>\n",
       "      <td>0</td>\n",
       "    </tr>\n",
       "    <tr>\n",
       "      <th>59432</th>\n",
       "      <td>0</td>\n",
       "      <td>0</td>\n",
       "      <td>0</td>\n",
       "      <td>0</td>\n",
       "      <td>0</td>\n",
       "      <td>0</td>\n",
       "      <td>0</td>\n",
       "      <td>0</td>\n",
       "      <td>0</td>\n",
       "      <td>0</td>\n",
       "      <td>...</td>\n",
       "      <td>0</td>\n",
       "      <td>0</td>\n",
       "      <td>0</td>\n",
       "      <td>0</td>\n",
       "      <td>0</td>\n",
       "      <td>0</td>\n",
       "      <td>0</td>\n",
       "      <td>0</td>\n",
       "      <td>0</td>\n",
       "      <td>0</td>\n",
       "    </tr>\n",
       "    <tr>\n",
       "      <th>19819</th>\n",
       "      <td>0</td>\n",
       "      <td>0</td>\n",
       "      <td>0</td>\n",
       "      <td>0</td>\n",
       "      <td>0</td>\n",
       "      <td>0</td>\n",
       "      <td>0</td>\n",
       "      <td>0</td>\n",
       "      <td>0</td>\n",
       "      <td>0</td>\n",
       "      <td>...</td>\n",
       "      <td>0</td>\n",
       "      <td>0</td>\n",
       "      <td>0</td>\n",
       "      <td>0</td>\n",
       "      <td>0</td>\n",
       "      <td>0</td>\n",
       "      <td>0</td>\n",
       "      <td>0</td>\n",
       "      <td>0</td>\n",
       "      <td>0</td>\n",
       "    </tr>\n",
       "    <tr>\n",
       "      <th>8575</th>\n",
       "      <td>0</td>\n",
       "      <td>0</td>\n",
       "      <td>0</td>\n",
       "      <td>0</td>\n",
       "      <td>0</td>\n",
       "      <td>0</td>\n",
       "      <td>0</td>\n",
       "      <td>0</td>\n",
       "      <td>0</td>\n",
       "      <td>0</td>\n",
       "      <td>...</td>\n",
       "      <td>0</td>\n",
       "      <td>0</td>\n",
       "      <td>0</td>\n",
       "      <td>0</td>\n",
       "      <td>0</td>\n",
       "      <td>0</td>\n",
       "      <td>0</td>\n",
       "      <td>0</td>\n",
       "      <td>0</td>\n",
       "      <td>0</td>\n",
       "    </tr>\n",
       "    <tr>\n",
       "      <th>44199</th>\n",
       "      <td>0</td>\n",
       "      <td>0</td>\n",
       "      <td>0</td>\n",
       "      <td>0</td>\n",
       "      <td>0</td>\n",
       "      <td>0</td>\n",
       "      <td>0</td>\n",
       "      <td>0</td>\n",
       "      <td>0</td>\n",
       "      <td>0</td>\n",
       "      <td>...</td>\n",
       "      <td>0</td>\n",
       "      <td>0</td>\n",
       "      <td>0</td>\n",
       "      <td>0</td>\n",
       "      <td>0</td>\n",
       "      <td>0</td>\n",
       "      <td>0</td>\n",
       "      <td>0</td>\n",
       "      <td>0</td>\n",
       "      <td>0</td>\n",
       "    </tr>\n",
       "  </tbody>\n",
       "</table>\n",
       "<p>5 rows × 784 columns</p>\n",
       "</div>"
      ],
      "text/plain": [
       "       0    1    2    3    4    5    6    7    8    9    ...  774  775  776  \\\n",
       "1532     0    0    0    0    0    0    0    0    0    0  ...    0    0    0   \n",
       "59432    0    0    0    0    0    0    0    0    0    0  ...    0    0    0   \n",
       "19819    0    0    0    0    0    0    0    0    0    0  ...    0    0    0   \n",
       "8575     0    0    0    0    0    0    0    0    0    0  ...    0    0    0   \n",
       "44199    0    0    0    0    0    0    0    0    0    0  ...    0    0    0   \n",
       "\n",
       "       777  778  779  780  781  782  783  \n",
       "1532     0    0    0    0    0    0    0  \n",
       "59432    0    0    0    0    0    0    0  \n",
       "19819    0    0    0    0    0    0    0  \n",
       "8575     0    0    0    0    0    0    0  \n",
       "44199    0    0    0    0    0    0    0  \n",
       "\n",
       "[5 rows x 784 columns]"
      ]
     },
     "execution_count": 6,
     "metadata": {},
     "output_type": "execute_result"
    }
   ],
   "source": [
    "validation_mnist = mnist_df.sample(n = 10000)\n",
    "validation_mnist.head(5)"
   ]
  },
  {
   "cell_type": "code",
   "execution_count": 7,
   "metadata": {},
   "outputs": [
    {
     "data": {
      "text/plain": [
       "array([0, 1, 2, 3, 4, 5, 6, 7, 8, 9], dtype=uint8)"
      ]
     },
     "execution_count": 7,
     "metadata": {},
     "output_type": "execute_result"
    }
   ],
   "source": [
    "val_mnist_label = [mnist['training_labels'][val][0] for val in validation_mnist.index]\n",
    "np.unique(val_mnist_label)"
   ]
  },
  {
   "cell_type": "code",
   "execution_count": 8,
   "metadata": {},
   "outputs": [],
   "source": [
    "train_mnist = mnist_df.drop(validation_mnist.index)\n",
    "train_mnist_label = [mnist['training_labels'][val][0] for val in train_mnist.index]"
   ]
  },
  {
   "cell_type": "markdown",
   "metadata": {},
   "source": [
    "(b) For the spam dataset, write code that sets aside 20% of the training data as a validation set."
   ]
  },
  {
   "cell_type": "code",
   "execution_count": 9,
   "metadata": {},
   "outputs": [
    {
     "data": {
      "text/plain": [
       "array([0., 2., 0., 0., 0., 0., 0., 0., 0., 0., 0., 0., 2., 0., 0., 2., 0.,\n",
       "       0., 0., 0., 0., 0., 0., 0., 0., 0., 3., 0., 5., 9., 1., 0.])"
      ]
     },
     "execution_count": 9,
     "metadata": {},
     "output_type": "execute_result"
    }
   ],
   "source": [
    "spam = scipy.io.loadmat('spam_data.mat')\n",
    "spam['training_data'][0]"
   ]
  },
  {
   "cell_type": "code",
   "execution_count": 10,
   "metadata": {},
   "outputs": [
    {
     "data": {
      "text/html": [
       "<div>\n",
       "<style scoped>\n",
       "    .dataframe tbody tr th:only-of-type {\n",
       "        vertical-align: middle;\n",
       "    }\n",
       "\n",
       "    .dataframe tbody tr th {\n",
       "        vertical-align: top;\n",
       "    }\n",
       "\n",
       "    .dataframe thead th {\n",
       "        text-align: right;\n",
       "    }\n",
       "</style>\n",
       "<table border=\"1\" class=\"dataframe\">\n",
       "  <thead>\n",
       "    <tr style=\"text-align: right;\">\n",
       "      <th></th>\n",
       "      <th>0</th>\n",
       "      <th>1</th>\n",
       "      <th>2</th>\n",
       "      <th>3</th>\n",
       "      <th>4</th>\n",
       "      <th>5</th>\n",
       "      <th>6</th>\n",
       "      <th>7</th>\n",
       "      <th>8</th>\n",
       "      <th>9</th>\n",
       "      <th>...</th>\n",
       "      <th>22</th>\n",
       "      <th>23</th>\n",
       "      <th>24</th>\n",
       "      <th>25</th>\n",
       "      <th>26</th>\n",
       "      <th>27</th>\n",
       "      <th>28</th>\n",
       "      <th>29</th>\n",
       "      <th>30</th>\n",
       "      <th>31</th>\n",
       "    </tr>\n",
       "  </thead>\n",
       "  <tbody>\n",
       "    <tr>\n",
       "      <th>0</th>\n",
       "      <td>0.0</td>\n",
       "      <td>2.0</td>\n",
       "      <td>0.0</td>\n",
       "      <td>0.0</td>\n",
       "      <td>0.0</td>\n",
       "      <td>0.0</td>\n",
       "      <td>0.0</td>\n",
       "      <td>0.0</td>\n",
       "      <td>0.0</td>\n",
       "      <td>0.0</td>\n",
       "      <td>...</td>\n",
       "      <td>0.0</td>\n",
       "      <td>0.0</td>\n",
       "      <td>0.0</td>\n",
       "      <td>0.0</td>\n",
       "      <td>3.0</td>\n",
       "      <td>0.0</td>\n",
       "      <td>5.0</td>\n",
       "      <td>9.0</td>\n",
       "      <td>1.0</td>\n",
       "      <td>0.0</td>\n",
       "    </tr>\n",
       "    <tr>\n",
       "      <th>1</th>\n",
       "      <td>0.0</td>\n",
       "      <td>0.0</td>\n",
       "      <td>0.0</td>\n",
       "      <td>0.0</td>\n",
       "      <td>0.0</td>\n",
       "      <td>0.0</td>\n",
       "      <td>0.0</td>\n",
       "      <td>0.0</td>\n",
       "      <td>0.0</td>\n",
       "      <td>0.0</td>\n",
       "      <td>...</td>\n",
       "      <td>0.0</td>\n",
       "      <td>0.0</td>\n",
       "      <td>0.0</td>\n",
       "      <td>7.0</td>\n",
       "      <td>1.0</td>\n",
       "      <td>0.0</td>\n",
       "      <td>0.0</td>\n",
       "      <td>0.0</td>\n",
       "      <td>0.0</td>\n",
       "      <td>0.0</td>\n",
       "    </tr>\n",
       "    <tr>\n",
       "      <th>2</th>\n",
       "      <td>0.0</td>\n",
       "      <td>0.0</td>\n",
       "      <td>0.0</td>\n",
       "      <td>0.0</td>\n",
       "      <td>0.0</td>\n",
       "      <td>0.0</td>\n",
       "      <td>0.0</td>\n",
       "      <td>0.0</td>\n",
       "      <td>0.0</td>\n",
       "      <td>0.0</td>\n",
       "      <td>...</td>\n",
       "      <td>0.0</td>\n",
       "      <td>0.0</td>\n",
       "      <td>0.0</td>\n",
       "      <td>0.0</td>\n",
       "      <td>0.0</td>\n",
       "      <td>0.0</td>\n",
       "      <td>0.0</td>\n",
       "      <td>3.0</td>\n",
       "      <td>0.0</td>\n",
       "      <td>0.0</td>\n",
       "    </tr>\n",
       "    <tr>\n",
       "      <th>3</th>\n",
       "      <td>0.0</td>\n",
       "      <td>0.0</td>\n",
       "      <td>0.0</td>\n",
       "      <td>0.0</td>\n",
       "      <td>0.0</td>\n",
       "      <td>5.0</td>\n",
       "      <td>0.0</td>\n",
       "      <td>0.0</td>\n",
       "      <td>0.0</td>\n",
       "      <td>0.0</td>\n",
       "      <td>...</td>\n",
       "      <td>0.0</td>\n",
       "      <td>0.0</td>\n",
       "      <td>0.0</td>\n",
       "      <td>0.0</td>\n",
       "      <td>0.0</td>\n",
       "      <td>1.0</td>\n",
       "      <td>2.0</td>\n",
       "      <td>0.0</td>\n",
       "      <td>0.0</td>\n",
       "      <td>0.0</td>\n",
       "    </tr>\n",
       "    <tr>\n",
       "      <th>4</th>\n",
       "      <td>0.0</td>\n",
       "      <td>0.0</td>\n",
       "      <td>0.0</td>\n",
       "      <td>0.0</td>\n",
       "      <td>0.0</td>\n",
       "      <td>1.0</td>\n",
       "      <td>0.0</td>\n",
       "      <td>1.0</td>\n",
       "      <td>0.0</td>\n",
       "      <td>0.0</td>\n",
       "      <td>...</td>\n",
       "      <td>0.0</td>\n",
       "      <td>0.0</td>\n",
       "      <td>0.0</td>\n",
       "      <td>0.0</td>\n",
       "      <td>2.0</td>\n",
       "      <td>0.0</td>\n",
       "      <td>8.0</td>\n",
       "      <td>4.0</td>\n",
       "      <td>0.0</td>\n",
       "      <td>0.0</td>\n",
       "    </tr>\n",
       "  </tbody>\n",
       "</table>\n",
       "<p>5 rows × 32 columns</p>\n",
       "</div>"
      ],
      "text/plain": [
       "    0    1    2    3    4    5    6    7    8    9   ...   22   23   24   25  \\\n",
       "0  0.0  2.0  0.0  0.0  0.0  0.0  0.0  0.0  0.0  0.0  ...  0.0  0.0  0.0  0.0   \n",
       "1  0.0  0.0  0.0  0.0  0.0  0.0  0.0  0.0  0.0  0.0  ...  0.0  0.0  0.0  7.0   \n",
       "2  0.0  0.0  0.0  0.0  0.0  0.0  0.0  0.0  0.0  0.0  ...  0.0  0.0  0.0  0.0   \n",
       "3  0.0  0.0  0.0  0.0  0.0  5.0  0.0  0.0  0.0  0.0  ...  0.0  0.0  0.0  0.0   \n",
       "4  0.0  0.0  0.0  0.0  0.0  1.0  0.0  1.0  0.0  0.0  ...  0.0  0.0  0.0  0.0   \n",
       "\n",
       "    26   27   28   29   30   31  \n",
       "0  3.0  0.0  5.0  9.0  1.0  0.0  \n",
       "1  1.0  0.0  0.0  0.0  0.0  0.0  \n",
       "2  0.0  0.0  0.0  3.0  0.0  0.0  \n",
       "3  0.0  1.0  2.0  0.0  0.0  0.0  \n",
       "4  2.0  0.0  8.0  4.0  0.0  0.0  \n",
       "\n",
       "[5 rows x 32 columns]"
      ]
     },
     "execution_count": 10,
     "metadata": {},
     "output_type": "execute_result"
    }
   ],
   "source": [
    "spam_df = pd.DataFrame(spam['training_data'])\n",
    "spam_df.head(5)"
   ]
  },
  {
   "cell_type": "code",
   "execution_count": 11,
   "metadata": {},
   "outputs": [],
   "source": [
    "validation_spam = spam_df.sample(frac=0.2)"
   ]
  },
  {
   "cell_type": "code",
   "execution_count": 12,
   "metadata": {},
   "outputs": [
    {
     "data": {
      "text/plain": [
       "array([0, 1])"
      ]
     },
     "execution_count": 12,
     "metadata": {},
     "output_type": "execute_result"
    }
   ],
   "source": [
    "val_spam_label = [spam['training_labels'][val][0] for val in validation_spam.index]\n",
    "np.unique(val_spam_label)"
   ]
  },
  {
   "cell_type": "code",
   "execution_count": 13,
   "metadata": {},
   "outputs": [],
   "source": [
    "train_spam = spam_df.drop(validation_spam.index)\n",
    "train_spam_label = [spam['training_labels'][val][0] for val in train_spam.index]"
   ]
  },
  {
   "cell_type": "markdown",
   "metadata": {},
   "source": [
    "(c) For the CIFAR-10 dataset, write code that sets aside 5,000 training images as a validation set.\n",
    "Be sure to shuffle your data before splitting it to make sure all the classes are represented in\n",
    "your partitions. Note: Make sure that you shuffle the labels with the training images. It’s a\n",
    "very common error to mislabel the training images by forgetting to permute the labels with the\n",
    "images!"
   ]
  },
  {
   "cell_type": "code",
   "execution_count": 14,
   "metadata": {},
   "outputs": [],
   "source": [
    "cifar = scipy.io.loadmat('cifar10_data.mat')"
   ]
  },
  {
   "cell_type": "code",
   "execution_count": 15,
   "metadata": {},
   "outputs": [],
   "source": [
    "cifar_df = pd.DataFrame(cifar['training_data'])\n",
    "validation_cifar = cifar_df.sample(n= 5000)"
   ]
  },
  {
   "cell_type": "code",
   "execution_count": 16,
   "metadata": {},
   "outputs": [
    {
     "data": {
      "text/plain": [
       "array([0, 1, 2, 3, 4, 5, 6, 7, 8, 9])"
      ]
     },
     "execution_count": 16,
     "metadata": {},
     "output_type": "execute_result"
    }
   ],
   "source": [
    "val_cifar_label = [cifar['training_labels'][val][0] for val in validation_cifar.index]\n",
    "np.unique(val_cifar_label)"
   ]
  },
  {
   "cell_type": "code",
   "execution_count": 17,
   "metadata": {},
   "outputs": [
    {
     "data": {
      "text/plain": [
       "45000"
      ]
     },
     "execution_count": 17,
     "metadata": {},
     "output_type": "execute_result"
    }
   ],
   "source": [
    "train_cifar = cifar_df.drop(validation_cifar.index)\n",
    "train_cifar_label = [cifar['training_labels'][val][0] for val in train_cifar.index]\n",
    "len(train_cifar)"
   ]
  },
  {
   "cell_type": "markdown",
   "metadata": {},
   "source": [
    "2.\tLoaded the .mat files into dataframes using scipy.io.loadmat to for the MNIST, SPAM, and CIFAR data. For the MNIST data, I sampled 10,000 rows from the MNIST ‘training_data’ to get my validation set for MNIST, and found the corresponding labels for the validation set from the ‘training_labels’; I used the remaining rows as the training set for MNIST and got labels for the training set from the  corresponding ‘training_labels’. For the SPAM data, I found the validation set by sampling 20% of the data, found the corresponding labels from ‘training_labels’ and used the remaining data as the training set for SPAM and found the corresponding labels from ‘training_labels’. For the CIFAR data, I sampled 5,000 rows to serve as the validation set, found the corresponding labels, used the remaining rows as the training set for CIFAR, and found the corresponding labels."
   ]
  },
  {
   "cell_type": "code",
   "execution_count": 18,
   "metadata": {},
   "outputs": [
    {
     "data": {
      "text/latex": [
       "\\newpage"
      ],
      "text/plain": [
       "<IPython.core.display.Latex object>"
      ]
     },
     "metadata": {},
     "output_type": "display_data"
    }
   ],
   "source": [
    "%%latex\n",
    "\\newpage"
   ]
  },
  {
   "cell_type": "markdown",
   "metadata": {},
   "source": [
    "# PART 3"
   ]
  },
  {
   "cell_type": "markdown",
   "metadata": {},
   "source": [
    "(a) For the MNIST dataset, use raw pixels as features. Train your model with the following\n",
    "numbers of training examples: 100, 200, 500, 1,000, 2,000, 5,000, 10,000. At this stage, you\n",
    "should expect accuracies between 70% and 90%.\n",
    "Hint: Be consistent with any preprocessing you do. Use either integer values between 0 and\n",
    "255 or floating-point values between 0 and 1. Training on floats and then testing with integers\n",
    "is bound to cause trouble."
   ]
  },
  {
   "cell_type": "code",
   "execution_count": 19,
   "metadata": {},
   "outputs": [],
   "source": [
    "from sklearn.metrics import accuracy_score \n",
    "from sklearn.svm import SVC"
   ]
  },
  {
   "cell_type": "code",
   "execution_count": 52,
   "metadata": {},
   "outputs": [
    {
     "name": "stdout",
     "output_type": "stream",
     "text": [
      "(\"The model's accuracy in predicting validation labels for a training size of 100 was \", 0.701)\n",
      "(\"The model's accuracy in predicting training labels for a training size of 100 was \", 1.0)\n"
     ]
    }
   ],
   "source": [
    "mnist_acc_scores = []\n",
    "train_mscore = []\n",
    "mnist_model = SVC(kernel = 'linear')\n",
    "#train on 100\n",
    "mnist_100 = train_mnist.iloc[100:200]\n",
    "mnist_label_100 = train_mnist_label[100:200]\n",
    "np.unique(mnist_label_100)\n",
    "train_mnist_100 = mnist_model.fit(mnist_100, mnist_label_100)\n",
    "mnist_acc_scores.append(accuracy_score(val_mnist_label, train_mnist_100.predict(validation_mnist)))\n",
    "train_mscore.append(accuracy_score(mnist_label_100, train_mnist_100.predict(mnist_100)))\n",
    "print(\"The model's accuracy in predicting validation labels for a training size of 100 was \", mnist_acc_scores[0])\n",
    "print(\"The model's accuracy in predicting training labels for a training size of 100 was \", train_mscore[0])"
   ]
  },
  {
   "cell_type": "code",
   "execution_count": 53,
   "metadata": {},
   "outputs": [
    {
     "name": "stdout",
     "output_type": "stream",
     "text": [
      "(\"The model's accuracy in predicting validation labels for a training size of 200 was \", 0.7739)\n",
      "(\"The model's accuracy in predicting training labels for a training size of 200 was \", 1.0)\n"
     ]
    }
   ],
   "source": [
    "#train on 200\n",
    "mnist_200 = train_mnist.iloc[100:300]\n",
    "mnist_label_200 = train_mnist_label[100:300]\n",
    "np.unique(mnist_label_100)\n",
    "train_mnist_200 = mnist_model.fit(mnist_200, mnist_label_200)\n",
    "mnist_acc_scores.append(accuracy_score(val_mnist_label, train_mnist_200.predict(validation_mnist)))\n",
    "train_mscore.append(accuracy_score(mnist_label_200, train_mnist_200.predict(mnist_200)))\n",
    "print(\"The model's accuracy in predicting validation labels for a training size of 200 was \", mnist_acc_scores[1])\n",
    "print(\"The model's accuracy in predicting training labels for a training size of 200 was \", train_mscore[1])"
   ]
  },
  {
   "cell_type": "code",
   "execution_count": 54,
   "metadata": {},
   "outputs": [
    {
     "name": "stdout",
     "output_type": "stream",
     "text": [
      "(\"The model's accuracy in predicting validation labels for a training size of 500 was \", 0.8432)\n",
      "(\"The model's accuracy in predicting training labels for a training size of 500 was \", 1.0)\n"
     ]
    }
   ],
   "source": [
    "#train on 500\n",
    "mnist_500 = train_mnist.iloc[100:600]\n",
    "mnist_label_500 = train_mnist_label[100:600]\n",
    "np.unique(mnist_label_500)\n",
    "train_mnist_500 = mnist_model.fit(mnist_500, mnist_label_500)\n",
    "mnist_acc_scores.append(accuracy_score(val_mnist_label, train_mnist_500.predict(validation_mnist)))\n",
    "train_mscore.append(accuracy_score(mnist_label_500, train_mnist_500.predict(mnist_500)))\n",
    "print(\"The model's accuracy in predicting validation labels for a training size of 500 was \", mnist_acc_scores[2])\n",
    "print(\"The model's accuracy in predicting training labels for a training size of 500 was \", train_mscore[2])"
   ]
  },
  {
   "cell_type": "code",
   "execution_count": 55,
   "metadata": {},
   "outputs": [
    {
     "name": "stdout",
     "output_type": "stream",
     "text": [
      "(\"The model's accuracy in predicting validation labels for a training size of 1000 was \", 0.8674)\n",
      "(\"The model's accuracy in predicting training labels for a training size of 1000 was \", 1.0)\n"
     ]
    }
   ],
   "source": [
    "#train on 1000\n",
    "mnist_1000 = train_mnist.iloc[100:1100]\n",
    "mnist_label_1000 = train_mnist_label[100:1100]\n",
    "np.unique(mnist_label_1000)\n",
    "train_mnist_1000 = mnist_model.fit(mnist_1000, mnist_label_1000)\n",
    "mnist_acc_scores.append(accuracy_score(val_mnist_label, train_mnist_1000.predict(validation_mnist)))\n",
    "train_mscore.append(accuracy_score(mnist_label_1000, train_mnist_1000.predict(mnist_1000)))\n",
    "print(\"The model's accuracy in predicting validation labels for a training size of 1000 was \", mnist_acc_scores[3])\n",
    "print(\"The model's accuracy in predicting training labels for a training size of 1000 was \", train_mscore[3])"
   ]
  },
  {
   "cell_type": "code",
   "execution_count": 56,
   "metadata": {},
   "outputs": [
    {
     "name": "stdout",
     "output_type": "stream",
     "text": [
      "(\"The model's accuracy in predicting validation labels for a training size of 2000 was \", 0.8834)\n",
      "(\"The model's accuracy in predicting training labels for a training size of 2000 was \", 1.0)\n"
     ]
    }
   ],
   "source": [
    "#train on 2000\n",
    "mnist_2000 = train_mnist.iloc[100:2100]\n",
    "mnist_label_2000 = train_mnist_label[100:2100]\n",
    "np.unique(mnist_label_2000)\n",
    "train_mnist_2000 = mnist_model.fit(mnist_2000, mnist_label_2000)\n",
    "mnist_acc_scores.append(accuracy_score(val_mnist_label, train_mnist_2000.predict(validation_mnist)))\n",
    "train_mscore.append(accuracy_score(mnist_label_2000, train_mnist_2000.predict(mnist_2000)))\n",
    "print(\"The model's accuracy in predicting validation labels for a training size of 2000 was \", mnist_acc_scores[4])\n",
    "print(\"The model's accuracy in predicting training labels for a training size of 2000 was \", train_mscore[4])"
   ]
  },
  {
   "cell_type": "code",
   "execution_count": 57,
   "metadata": {},
   "outputs": [
    {
     "name": "stdout",
     "output_type": "stream",
     "text": [
      "(\"The model's accuracy in predicting validation labels for a training size of 5000 was \", 0.8995)\n",
      "(\"The model's accuracy in predicting training labels for a training size of 5000 was \", 1.0)\n"
     ]
    }
   ],
   "source": [
    "#train on 5000\n",
    "mnist_5000 = train_mnist.iloc[100:5100]\n",
    "mnist_label_5000 = train_mnist_label[100:5100]\n",
    "np.unique(mnist_label_5000)\n",
    "train_mnist_5000 = mnist_model.fit(mnist_5000, mnist_label_5000)\n",
    "mnist_acc_scores.append(accuracy_score(val_mnist_label, train_mnist_5000.predict(validation_mnist)))\n",
    "train_mscore.append(accuracy_score(mnist_label_5000, train_mnist_5000.predict(mnist_5000)))\n",
    "print(\"The model's accuracy in predicting validation labels for a training size of 5000 was \", mnist_acc_scores[5])\n",
    "print(\"The model's accuracy in predicting training labels for a training size of 5000 was \", train_mscore[5])"
   ]
  },
  {
   "cell_type": "code",
   "execution_count": 58,
   "metadata": {},
   "outputs": [
    {
     "name": "stdout",
     "output_type": "stream",
     "text": [
      "(\"The model's accuracy in predicting validation labels for a training size of 10000 was \", 0.904)\n",
      "(\"The model's accuracy in predicting training labels for a training size of 10000 was \", 1.0)\n"
     ]
    }
   ],
   "source": [
    "#train on 10000\n",
    "mnist_10000 = train_mnist.iloc[100:10100]\n",
    "mnist_label_10000 = train_mnist_label[100:10100]\n",
    "np.unique(mnist_label_10000)\n",
    "train_mnist_10000 = mnist_model.fit(mnist_10000, mnist_label_10000)\n",
    "mnist_acc_scores.append(accuracy_score(val_mnist_label, train_mnist_10000.predict(validation_mnist)))\n",
    "train_mscore.append(accuracy_score(mnist_label_10000, train_mnist_10000.predict(mnist_10000)))\n",
    "print(\"The model's accuracy in predicting validation labels for a training size of 10000 was \", mnist_acc_scores[6])\n",
    "print(\"The model's accuracy in predicting training labels for a training size of 10000 was \", train_mscore[6])"
   ]
  },
  {
   "cell_type": "code",
   "execution_count": 59,
   "metadata": {},
   "outputs": [
    {
     "data": {
      "image/png": "[encoded data removed]",
      "text/plain": [
       "<Figure size 432x288 with 1 Axes>"
      ]
     },
     "metadata": {
      "needs_background": "light"
     },
     "output_type": "display_data"
    }
   ],
   "source": [
    "plt.plot([100, 200, 500, 1000, 2000, 5000, 10000], mnist_acc_scores)\n",
    "plt.plot([100, 200, 500, 1000, 2000, 5000, 10000], train_mscore)\n",
    "plt.xlabel(\"Training Size\")\n",
    "plt.ylabel(\"Accuracy Score\")\n",
    "plt.title(\"Training Size vs. Accuracy Score for MNIST Model\");"
   ]
  },
  {
   "cell_type": "markdown",
   "metadata": {},
   "source": [
    "(b) For the spam dataset, use the provided word frequencies as features. In other words, each\n",
    "document is represented by a vector, where the i\n",
    "th entry denotes the number of times word i (as\n",
    "specified in featurize.py) is found in that document. Train your model with the following\n",
    "numbers of training examples: 100, 200, 500, 1,000, 2,000, ALL.\n",
    "Note that this dataset does not have 10,000 examples; use all of your examples instead of\n",
    "10,000. At this stage, you should expect accuracies between 70% and 90%."
   ]
  },
  {
   "cell_type": "code",
   "execution_count": 112,
   "metadata": {},
   "outputs": [
    {
     "name": "stdout",
     "output_type": "stream",
     "text": [
      "1190\n"
     ]
    }
   ],
   "source": [
    "for val in range(0, len(train_spam_label)):\n",
    "    if train_spam_label[val]!=1:\n",
    "        print(val)\n",
    "        break"
   ]
  },
  {
   "cell_type": "code",
   "execution_count": 88,
   "metadata": {},
   "outputs": [
    {
     "name": "stdout",
     "output_type": "stream",
     "text": [
      "(\"The model's accuracy in predicting validation labels for a training size of 100 was \", 0.6228239845261122)\n",
      "(\"The model's accuracy in predicting training labels for a training size of 100 was \", 0.78)\n"
     ]
    },
    {
     "data": {
      "text/plain": [
       "1"
      ]
     },
     "execution_count": 88,
     "metadata": {},
     "output_type": "execute_result"
    }
   ],
   "source": [
    "spam_acc_scores = []\n",
    "train_sscore = []\n",
    "spam_model = SVC(kernel = 'linear')\n",
    "#train on 100\n",
    "spam_100 = train_spam.iloc[1150:1250]\n",
    "spam_label_100 = train_spam_label[1150:1250]\n",
    "np.unique(spam_label_100)\n",
    "train_spam_100 = spam_model.fit(spam_100, spam_label_100)\n",
    "spam_acc_scores.append(accuracy_score(val_spam_label, train_spam_100.predict(validation_spam)))\n",
    "train_sscore.append(accuracy_score(spam_label_100, train_spam_100.predict(spam_100)))\n",
    "print(\"The model's accuracy in predicting validation labels for a training size of 100 was \", spam_acc_scores[0])\n",
    "print(\"The model's accuracy in predicting training labels for a training size of 100 was \", train_sscore[0])\n",
    "len(train_sscore)"
   ]
  },
  {
   "cell_type": "code",
   "execution_count": 89,
   "metadata": {},
   "outputs": [
    {
     "name": "stdout",
     "output_type": "stream",
     "text": [
      "(\"The model's accuracy in predicting validation labels for a training size of 200 was \", 0.811411992263056)\n",
      "(\"The model's accuracy in predicting training labels for a training size of 200 was \", 0.835)\n"
     ]
    },
    {
     "data": {
      "text/plain": [
       "2"
      ]
     },
     "execution_count": 89,
     "metadata": {},
     "output_type": "execute_result"
    }
   ],
   "source": [
    "#train on 200\n",
    "spam_200 = train_spam.iloc[1150:1350]\n",
    "spam_label_200 = train_spam_label[1150:1350]\n",
    "np.unique(spam_label_200)\n",
    "train_spam_200 = spam_model.fit(spam_200, spam_label_200)\n",
    "spam_acc_scores.append(accuracy_score(val_spam_label, train_spam_200.predict(validation_spam)))\n",
    "train_sscore.append(accuracy_score(spam_label_200, train_spam_200.predict(spam_200)))\n",
    "print(\"The model's accuracy in predicting validation labels for a training size of 200 was \", spam_acc_scores[1])\n",
    "print(\"The model's accuracy in predicting training labels for a training size of 200 was \", train_sscore[1])\n",
    "len(train_sscore)"
   ]
  },
  {
   "cell_type": "code",
   "execution_count": 90,
   "metadata": {},
   "outputs": [
    {
     "name": "stdout",
     "output_type": "stream",
     "text": [
      "(\"The model's accuracy in predicting validation labels for a training size of 500 was \", 0.7833655705996132)\n",
      "(\"The model's accuracy in predicting training labels for a training size of 500 was \", 0.93)\n"
     ]
    },
    {
     "data": {
      "text/plain": [
       "3"
      ]
     },
     "execution_count": 90,
     "metadata": {},
     "output_type": "execute_result"
    }
   ],
   "source": [
    "#train on 500\n",
    "spam_500 = train_spam.iloc[1150:1650]\n",
    "spam_label_500 = train_spam_label[1150:1650]\n",
    "np.unique(spam_label_500)\n",
    "train_spam_500 = spam_model.fit(spam_500, spam_label_500)\n",
    "train_sscore.append(accuracy_score(spam_label_500, train_spam_500.predict(spam_500)))\n",
    "spam_acc_scores.append(accuracy_score(val_spam_label, train_spam_500.predict(validation_spam)))\n",
    "print(\"The model's accuracy in predicting validation labels for a training size of 500 was \", spam_acc_scores[2])\n",
    "print(\"The model's accuracy in predicting training labels for a training size of 500 was \", train_sscore[2])\n",
    "len(train_sscore)"
   ]
  },
  {
   "cell_type": "code",
   "execution_count": 91,
   "metadata": {},
   "outputs": [
    {
     "name": "stdout",
     "output_type": "stream",
     "text": [
      "(\"The model's accuracy in predicting validation labels for a training size of 1000 was \", 0.7543520309477756)\n",
      "(\"The model's accuracy in predicting training labels for a training size of 1000 was \", 0.959)\n"
     ]
    },
    {
     "data": {
      "text/plain": [
       "4"
      ]
     },
     "execution_count": 91,
     "metadata": {},
     "output_type": "execute_result"
    }
   ],
   "source": [
    "#train on 1000\n",
    "spam_1000 = train_spam.iloc[1150:2150]\n",
    "spam_label_1000 = train_spam_label[1150:2150]\n",
    "np.unique(spam_label_1000)\n",
    "train_spam_1000 = spam_model.fit(spam_1000, spam_label_1000)\n",
    "spam_acc_scores.append(accuracy_score(val_spam_label, train_spam_1000.predict(validation_spam)))\n",
    "train_sscore.append(accuracy_score(spam_label_1000, train_spam_1000.predict(spam_1000)))\n",
    "print(\"The model's accuracy in predicting validation labels for a training size of 1000 was \", spam_acc_scores[3])\n",
    "print(\"The model's accuracy in predicting training labels for a training size of 1000 was \", train_sscore[3])\n",
    "len(train_sscore)"
   ]
  },
  {
   "cell_type": "code",
   "execution_count": 92,
   "metadata": {},
   "outputs": [
    {
     "name": "stdout",
     "output_type": "stream",
     "text": [
      "(\"The model's accuracy in predicting validation labels for a training size of 2000 was \", 0.753384912959381)\n",
      "(\"The model's accuracy in predicting training labels for a training size of 2000 was \", 0.979)\n"
     ]
    },
    {
     "data": {
      "text/plain": [
       "5"
      ]
     },
     "execution_count": 92,
     "metadata": {},
     "output_type": "execute_result"
    }
   ],
   "source": [
    "#train on 2000\n",
    "spam_2000 = train_spam.iloc[1150:3150]\n",
    "spam_label_2000 = train_spam_label[1150:3150]\n",
    "np.unique(spam_label_2000)\n",
    "train_spam_2000 = spam_model.fit(spam_2000, spam_label_2000)\n",
    "spam_acc_scores.append(accuracy_score(val_spam_label, train_spam_2000.predict(validation_spam)))\n",
    "train_sscore.append(accuracy_score(spam_label_2000, train_spam_2000.predict(spam_2000)))\n",
    "print(\"The model's accuracy in predicting validation labels for a training size of 2000 was \", spam_acc_scores[4])\n",
    "print(\"The model's accuracy in predicting training labels for a training size of 2000 was \", train_sscore[4])\n",
    "len(train_sscore)"
   ]
  },
  {
   "cell_type": "code",
   "execution_count": 93,
   "metadata": {},
   "outputs": [
    {
     "name": "stdout",
     "output_type": "stream",
     "text": [
      "(\"The model's accuracy in predicting validation labels when the training set was the entirety of the spam dataset was \", 0.809477756286267)\n",
      "(\"The model's accuracy in predicting training labels for a training size was the entirety of the spam dataset \", 0.802784222737819)\n"
     ]
    },
    {
     "data": {
      "text/plain": [
       "6"
      ]
     },
     "execution_count": 93,
     "metadata": {},
     "output_type": "execute_result"
    }
   ],
   "source": [
    "#train on all\n",
    "train_spam_all = spam_model.fit(train_spam, train_spam_label)\n",
    "spam_acc_scores.append(accuracy_score(val_spam_label, train_spam_all.predict(validation_spam)))\n",
    "train_sscore.append(accuracy_score(spam['training_labels'], train_spam_all.predict(spam['training_data'])))\n",
    "print(\"The model's accuracy in predicting validation labels when the training set was the entirety of the spam dataset was \", spam_acc_scores[5])\n",
    "print(\"The model's accuracy in predicting training labels for a training size was the entirety of the spam dataset \", train_sscore[5])\n",
    "len(train_sscore)"
   ]
  },
  {
   "cell_type": "code",
   "execution_count": 94,
   "metadata": {},
   "outputs": [
    {
     "data": {
      "image/png": "[encoded data removed]",
      "text/plain": [
       "<Figure size 432x288 with 1 Axes>"
      ]
     },
     "metadata": {
      "needs_background": "light"
     },
     "output_type": "display_data"
    }
   ],
   "source": [
    "plt.plot([100, 200, 500, 1000, 2000, 5172], spam_acc_scores)\n",
    "plt.plot([100, 200, 500, 1000, 2000, 5172], train_sscore)\n",
    "plt.xlabel(\"Training Size\")\n",
    "plt.ylabel(\"Accuracy Score\")\n",
    "plt.title(\"Training Size vs. Accuracy Score for Spam Model\");"
   ]
  },
  {
   "cell_type": "markdown",
   "metadata": {},
   "source": [
    "(c) For the CIFAR-10 dataset, use raw pixels as features. At this stage, you should expect accuracies between 25% and 35%. Be forewarned that training SVMs for CIFAR-10 takes a couple\n",
    "minutes to run for a large training set locally. Train your model with the following numbers of\n",
    "training examples: 100, 200, 500, 1,000, 2,000, 5,000.\n",
    "Note: We find that SVC(kernel=’linear’) is faster than LinearSVC."
   ]
  },
  {
   "cell_type": "code",
   "execution_count": 105,
   "metadata": {},
   "outputs": [
    {
     "name": "stdout",
     "output_type": "stream",
     "text": [
      "(\"The model's accuracy in predicting labels for a training size of 100 was \", 0.2494)\n",
      "(\"The model's accuracy in predicting training labels for a training size of 100 was \", 1.0)\n"
     ]
    }
   ],
   "source": [
    "cifar_acc_scores = []\n",
    "train_score = []\n",
    "cifar_model = SVC(kernel = 'linear')\n",
    "#train on 100\n",
    "cifar_100 = train_cifar.iloc[200:300]\n",
    "cifar_label_100 = train_cifar_label[200:300]\n",
    "np.unique(cifar_label_100)\n",
    "dict={val:0 for val in (np.unique(train_cifar_label))}\n",
    "\n",
    "for val in range(len(cifar_label_100)):\n",
    "    dict[cifar_label_100[val]]+= 1\n",
    "dict.values()\n",
    "\n",
    "train_cifar_100 = cifar_model.fit(cifar_100, cifar_label_100)\n",
    "cifar_acc_scores.append(accuracy_score(val_cifar_label, train_cifar_100.predict(validation_cifar)))\n",
    "train_score.append(accuracy_score(cifar_label_100, train_cifar_100.predict(cifar_100)))\n",
    "print(\"The model's accuracy in predicting labels for a training size of 100 was \", cifar_acc_scores[0])\n",
    "print(\"The model's accuracy in predicting training labels for a training size of 100 was \", train_score[0])"
   ]
  },
  {
   "cell_type": "code",
   "execution_count": 106,
   "metadata": {},
   "outputs": [
    {
     "name": "stdout",
     "output_type": "stream",
     "text": [
      "(\"The model's accuracy in predicting labels for a training size of 200 was \", 0.2582)\n",
      "(\"The model's accuracy in predicting training labels for a training size of 200 was \", 1.0)\n"
     ]
    }
   ],
   "source": [
    "#train on 200\n",
    "train_cifar_200 = cifar_model.fit(train_cifar.iloc[200:400], train_cifar_label[200:400])\n",
    "cifar_acc_scores.append(accuracy_score(val_cifar_label, train_cifar_200.predict(validation_cifar)))\n",
    "train_score.append(accuracy_score(train_cifar_label[200:400], train_cifar_200.predict(train_cifar.iloc[200:400])))\n",
    "print(\"The model's accuracy in predicting labels for a training size of 200 was \", cifar_acc_scores[1])\n",
    "print(\"The model's accuracy in predicting training labels for a training size of 200 was \", train_score[1])"
   ]
  },
  {
   "cell_type": "code",
   "execution_count": 107,
   "metadata": {},
   "outputs": [
    {
     "name": "stdout",
     "output_type": "stream",
     "text": [
      "(\"The model's accuracy in predicting labels for a training size of 500 was \", 0.2822)\n",
      "(\"The model's accuracy in predicting training labels for a training size of 500 was \", 1.0)\n"
     ]
    }
   ],
   "source": [
    "#train on 500\n",
    "train_cifar_500 = cifar_model.fit(train_cifar.iloc[200:700], train_cifar_label[200:700])\n",
    "cifar_acc_scores.append(accuracy_score(val_cifar_label, train_cifar_500.predict(validation_cifar)))\n",
    "train_score.append(accuracy_score(train_cifar_label[200:700], train_cifar_100.predict(train_cifar.iloc[200:700])))\n",
    "print(\"The model's accuracy in predicting labels for a training size of 500 was \", cifar_acc_scores[2])\n",
    "print(\"The model's accuracy in predicting training labels for a training size of 500 was \", train_score[2])"
   ]
  },
  {
   "cell_type": "code",
   "execution_count": 108,
   "metadata": {},
   "outputs": [
    {
     "name": "stdout",
     "output_type": "stream",
     "text": [
      "(\"The model's accuracy in predicting labels for a training size of 1000 was \", 0.3074)\n",
      "(\"The model's accuracy in predicting training labels for a training size of 1000 was \", 1.0)\n"
     ]
    }
   ],
   "source": [
    "#train on 1000\n",
    "train_cifar_1000 = cifar_model.fit(train_cifar.iloc[200:1200], train_cifar_label[200:1200])\n",
    "cifar_acc_scores.append(accuracy_score(val_cifar_label, train_cifar_1000.predict(validation_cifar)))\n",
    "train_score.append(accuracy_score(train_cifar_label[200:1200], train_cifar_100.predict(train_cifar.iloc[200:1200])))\n",
    "print(\"The model's accuracy in predicting labels for a training size of 1000 was \", cifar_acc_scores[3])\n",
    "print(\"The model's accuracy in predicting training labels for a training size of 1000 was \", train_score[3])"
   ]
  },
  {
   "cell_type": "code",
   "execution_count": 109,
   "metadata": {},
   "outputs": [
    {
     "name": "stdout",
     "output_type": "stream",
     "text": [
      "(\"The model's accuracy in predicting labels for a training size of 2000 was \", 0.311)\n",
      "(\"The model's accuracy in predicting training labels for a training size of 2000 was \", 1.0)\n"
     ]
    }
   ],
   "source": [
    "#train on 2000\n",
    "train_cifar_2000 = cifar_model.fit(train_cifar.iloc[200:2200], train_cifar_label[200:2200])\n",
    "cifar_acc_scores.append(accuracy_score(val_cifar_label, train_cifar_2000.predict(validation_cifar)))\n",
    "train_score.append(accuracy_score(train_cifar_label[200:2200], train_cifar_100.predict(train_cifar.iloc[200:2200])))\n",
    "print(\"The model's accuracy in predicting labels for a training size of 2000 was \", cifar_acc_scores[4])\n",
    "print(\"The model's accuracy in predicting training labels for a training size of 2000 was \", train_score[4])"
   ]
  },
  {
   "cell_type": "code",
   "execution_count": 110,
   "metadata": {},
   "outputs": [
    {
     "name": "stdout",
     "output_type": "stream",
     "text": [
      "(\"The model's accuracy in predicting labels for a training size of 5000 was \", 0.2932)\n",
      "(\"The model's accuracy in predicting training labels for a training size of 5000 was \", 0.5818)\n"
     ]
    }
   ],
   "source": [
    "#train on 5000\n",
    "train_cifar_5000 = mnist_model.fit(train_cifar.iloc[200:5200], train_cifar_label[200:5200])\n",
    "cifar_acc_scores.append(accuracy_score(val_cifar_label, train_cifar_5000.predict(validation_cifar)))\n",
    "train_score.append(accuracy_score(train_cifar_label[200:5200], train_cifar_100.predict(train_cifar.iloc[200:5200])))\n",
    "print(\"The model's accuracy in predicting labels for a training size of 5000 was \", cifar_acc_scores[5])\n",
    "print(\"The model's accuracy in predicting training labels for a training size of 5000 was \", train_score[5])"
   ]
  },
  {
   "cell_type": "code",
   "execution_count": 111,
   "metadata": {},
   "outputs": [
    {
     "data": {
      "image/png": "[encoded data removed]",
      "text/plain": [
       "<Figure size 432x288 with 1 Axes>"
      ]
     },
     "metadata": {
      "needs_background": "light"
     },
     "output_type": "display_data"
    }
   ],
   "source": [
    "plt.plot([100, 200, 500, 1000, 2000, 5000], cifar_acc_scores)\n",
    "plt.plot([100, 200, 500, 1000, 2000, 5000], train_score)\n",
    "plt.xlabel(\"Training Size\")\n",
    "plt.ylabel(\"Accuracy Score\")\n",
    "plt.title(\"Training Size vs. Accuracy Score for CIFAR Model\");"
   ]
  },
  {
   "cell_type": "markdown",
   "metadata": {},
   "source": [
    "3.\tI initialized the MNIST model and fit it on 100 rows from the MNIST training set, making sure that I had instances of all possible labels in the 100 rows. I then calculated the accuracy of the model by predicting the MNIST validation set using my trained model and added that score to my list of accuracy scores. I repeated this process by training the model on 200, 500, 1,000, 2,000, 5,000, and 10,000 rows of the MNIST training set and calculated the corresponding accuracies for predicting the MNIST validation set. And I plotted the training set sizes against their accuracy scores in a line plot. For the SPAM data, I searched through the training set to look for an instance of 0 because I saw that the first 100 rows were only rows of label 1 and found that there is an instance of label 0 at row 1,190. In order to get a somewhat mixed portion of label 0 and 1 to train the model on I selected starting from row 1,150. From there I used a similar approach and for 100, 200, 500, 1,000, 2,000, and the entire training set I trained the model on those respective sizes and predicted the accuracy of the model in predicting the SPAM validation sets, and made a plot of sizes the model got trained on and their respective accuracies. For CIFAR, I searched through the training set to find the best region that had a decent spread of the possible labels. For the increasing numbers of rows used to train the CIFAR model, 100, 200, 500, 1,000, 2,000, and 5,000 rows, I calculated the model’s accuracy in predicting the CIFAR validation set and plotted the numbers of rows used to train the model against their respective accuracy scores. "
   ]
  },
  {
   "cell_type": "code",
   "execution_count": null,
   "metadata": {},
   "outputs": [],
   "source": [
    "%%latex\n",
    "\\newpage"
   ]
  },
  {
   "cell_type": "markdown",
   "metadata": {},
   "source": [
    "# Part 4"
   ]
  },
  {
   "cell_type": "markdown",
   "metadata": {},
   "source": [
    "(a) For the MNIST dataset, find the best C value. In your report, list at least 8 C values you\n",
    "tried, the corresponding accuracies, and the best C value. As in the previous problem, for\n",
    "performance reasons, you are required to train with up to 10,000 training examples but not\n",
    "required to train with more than that."
   ]
  },
  {
   "cell_type": "code",
   "execution_count": 143,
   "metadata": {},
   "outputs": [
    {
     "name": "stdout",
     "output_type": "stream",
     "text": [
      "('The best c-value was ', 1e-06, 'which had an accuracy of ', 0.9252)\n"
     ]
    }
   ],
   "source": [
    "c_values = [10**val for val in range(-10, 10)]\n",
    "scores = {val:0 for val in c_values}\n",
    "for c in c_values:\n",
    "    mnist_mod = SVC(kernel = 'linear', C = c)\n",
    "    mnist_c = mnist_mod.fit(mnist_10000, mnist_label_10000)\n",
    "    scores[c] = accuracy_score(val_mnist_label, mnist_c.predict(validation_mnist))\n",
    "max_mnist_c = max(scores, key=scores.get)\n",
    "max_accuracy = max(scores.values())\n",
    "print(\"The best c-value was \", max_mnist_c, \"which had an accuracy of \", max_accuracy)"
   ]
  },
  {
   "cell_type": "markdown",
   "metadata": {},
   "source": [
    "4.\tI used 10 potential C values for my MNIST model, ranging from 10^-10 to 10^10 and trained my model on 10,000 rows from the MNIST training set and calculated the model’s accuracy in predicting the MNIST validation set and selected the C value that gave the best accuracy, which was 10^-6."
   ]
  },
  {
   "cell_type": "code",
   "execution_count": null,
   "metadata": {},
   "outputs": [],
   "source": [
    "%%latex\n",
    "\\newpage"
   ]
  },
  {
   "cell_type": "markdown",
   "metadata": {},
   "source": [
    "# Part 5"
   ]
  },
  {
   "cell_type": "markdown",
   "metadata": {},
   "source": [
    "(a) For the spam dataset, use 5-fold cross-validation to find and report the best C value. In your\n",
    "report, list at least 8 C values you tried, the corresponding accuracies, and the best C value.\n",
    "Hint: Effective cross-validation requires choosing from random partitions. This is best implemented by raandom partitions. This is best implemented by randomly shuffling your training examples and labels, then partitioning them by their indicies. "
   ]
  },
  {
   "cell_type": "code",
   "execution_count": 24,
   "metadata": {},
   "outputs": [],
   "source": [
    "#fold 1\n",
    "val_1 = spam_df.sample(frac=0.2)\n",
    "left_for_cross = spam_df.drop(val_1.index)\n",
    "val_1_label = [spam['training_labels'][val][0] for val in val_1.index]\n",
    "train_1 = spam_df.drop(val_1.index)\n",
    "train_1_label = [spam['training_labels'][val][0] for val in train_1.index]\n",
    "\n",
    "#fold 2\n",
    "val_2 = left_for_cross.sample(frac=0.2)\n",
    "left_for_cross = left_for_cross.drop(val_2.index)\n",
    "val_2_label = [spam['training_labels'][val][0] for val in val_2.index]\n",
    "train_2 = spam_df.drop(val_2.index)\n",
    "train_2_label = [spam['training_labels'][val][0] for val in train_2.index]\n",
    "\n",
    "#fold 3\n",
    "val_3 = left_for_cross.sample(frac=0.2)\n",
    "left_for_cross = left_for_cross.drop(val_3.index)\n",
    "val_3_label = [spam['training_labels'][val][0] for val in val_3.index]\n",
    "train_3 = spam_df.drop(val_3.index)\n",
    "train_3_label = [spam['training_labels'][val][0] for val in train_3.index]\n",
    "\n",
    "#fold 4\n",
    "val_4 = left_for_cross.sample(frac=0.2)\n",
    "left_for_cross = left_for_cross.drop(val_4.index)\n",
    "val_4_label = [spam['training_labels'][val][0] for val in val_4.index]\n",
    "train_4 = spam_df.drop(val_4.index)\n",
    "train_4_label = [spam['training_labels'][val][0] for val in train_4.index]\n",
    "\n",
    "#fold 5\n",
    "val_5 = left_for_cross\n",
    "val_5_label = [spam['training_labels'][val][0] for val in val_5.index]\n",
    "train_5 = spam_df.drop(val_5.index)\n",
    "train_5_label = [spam['training_labels'][val][0] for val in train_5.index]"
   ]
  },
  {
   "cell_type": "code",
   "execution_count": 28,
   "metadata": {},
   "outputs": [
    {
     "name": "stdout",
     "output_type": "stream",
     "text": [
      "('The best c-value was ', 1, 'which had an accuracy of ', 0.8191489361702128)\n"
     ]
    }
   ],
   "source": [
    "from sklearn.svm import LinearSVC\n",
    "\n",
    "c_values = [10**val for val in range(-10, 10)]\n",
    "spam_scores = {val:[] for val in c_values}\n",
    "validating = [val_1, val_2, val_3, val_4, val_5]\n",
    "validating_label = [val_1_label, val_2_label, val_3_label, val_4_label, val_5_label]\n",
    "training = [train_1, train_2, train_3, train_4, train_5]\n",
    "training_label = [train_1_label, train_2_label, train_3_label, train_4_label, train_5_label]\n",
    "\n",
    "best=0\n",
    "for c in c_values:\n",
    "    #lst = []\n",
    "    for i in range(5):\n",
    "        spam_mod = LinearSVC(C=c)\n",
    "        spam_c = spam_mod.fit(training[i], training_label[i])\n",
    "        score = accuracy_score(validating_label[i], spam_c.predict(validating[i]))\n",
    "        if score> best:\n",
    "            best = c\n",
    "            model = spam_c\n",
    "            acc = accuracy_score(validating_label[i], spam_c.predict(validating[i]))   \n",
    "        #spam_scores[c] = lst.append(accuracy_score(validating_label[i], spam_c.predict(validating[i])))\n",
    "\n",
    "print(\"The best c-value was \", best, \"which had an accuracy of \", acc)        \n",
    "#spam_scores = {c: max(spam_scores[c]) for c in spam_scores.keys()} \n",
    "       \n",
    "#print(\"The best c-value was \", max(spam_scores, key=spam_scores.get), \"which had an accuracy of \", max(spam_scores.values()))"
   ]
  },
  {
   "cell_type": "markdown",
   "metadata": {},
   "source": [
    "5.\tTo find the best C value for the SPAM data, I used the same 10 potential C-values from Question 4 and proceeded to partition the entire SPAM data into 5 roughly equal partitions to perform 5-fold cross validation, then I tested C-values on each partition and found that C value with the best accuracy in predicting the SPAM validating set."
   ]
  },
  {
   "cell_type": "code",
   "execution_count": 112,
   "metadata": {},
   "outputs": [
    {
     "data": {
      "text/latex": [
       "\\newpage"
      ],
      "text/plain": [
       "<IPython.core.display.Latex object>"
      ]
     },
     "metadata": {},
     "output_type": "display_data"
    }
   ],
   "source": [
    "%%latex\n",
    "\\newpage"
   ]
  },
  {
   "cell_type": "markdown",
   "metadata": {},
   "source": [
    "# Part 6"
   ]
  },
  {
   "cell_type": "code",
   "execution_count": 47,
   "metadata": {},
   "outputs": [
    {
     "name": "stdout",
     "output_type": "stream",
     "text": [
      "My kaggle prediction accuracy score for the MNIST data was 0.92890\n"
     ]
    }
   ],
   "source": [
    "#mnist test predictions \n",
    "mnist_test_model = SVC(kernel = 'linear', C = 1e-06)\n",
    "mnist_test_fit = mnist_test_model.fit(mnist_10000, mnist_label_10000)\n",
    "mnist_test = pd.DataFrame([val for val in range(1,len(mnist['test_data'])+1)], columns = ['Id'])\n",
    "mnist_test['Category'] = mnist_test_fit.predict(mnist['test_data'])\n",
    "#mnist_test.columns = ['Id', 'Category']\n",
    "mnist_test.to_csv('mnist189.csv', index = False)\n",
    "print(\"My kaggle prediction accuracy score for the MNIST data was 0.92890\")"
   ]
  },
  {
   "cell_type": "code",
   "execution_count": 49,
   "metadata": {},
   "outputs": [
    {
     "name": "stdout",
     "output_type": "stream",
     "text": [
      "My kaggle prediction accuracy score for the SPAM data was 0.83728\n"
     ]
    }
   ],
   "source": [
    "#spam test predictions\n",
    "spam_test_model = model\n",
    "spam_test = pd.DataFrame([val for val in range(1,len(spam['test_data'])+1)], columns = ['Id'])\n",
    "spam_test['Category'] = model.predict(spam['test_data'])\n",
    "spam_test.to_csv('spam189.csv', index = False)\n",
    "print(\"My kaggle prediction accuracy score for the SPAM data was 0.83728\")"
   ]
  },
  {
   "cell_type": "code",
   "execution_count": 50,
   "metadata": {},
   "outputs": [
    {
     "name": "stdout",
     "output_type": "stream",
     "text": [
      "My kaggle prediction accuracy score for the CIFAR data was 0.30850\n"
     ]
    }
   ],
   "source": [
    "#cifar test predictions\n",
    "cifar_test_fit = cifar_model.fit(train_cifar.iloc[200:2200], train_cifar_label[200:2200])\n",
    "cifar_test = pd.DataFrame([val for val in range(1,len(cifar['test_data'])+1)], columns = ['Id'])\n",
    "cifar_test['Category'] = cifar_test_fit.predict(cifar['test_data'])                         \n",
    "cifar_test.to_csv('cifar189.csv', index = False)\n",
    "print(\"My kaggle prediction accuracy score for the CIFAR data was 0.30850\")"
   ]
  },
  {
   "cell_type": "markdown",
   "metadata": {},
   "source": [
    "6.\tIn order to save my predictions as csv files, I fit my models for each data set to the model with the best C value and created a dataframe for my predictions for the label of each item in the test data, and I named the numbered predictions ‘Id’ and the label predictions as ‘Category’ and converted the dataframe into csv files and uploaded the files to Kaggle. NOTE: my MNIST Kaggle predictions are listed under the username 'hw' and 'mmchicken'."
   ]
  }
 ],
 "metadata": {
  "kernelspec": {
   "display_name": "Python 3",
   "language": "python",
   "name": "python3"
  },
  "language_info": {
   "codemirror_mode": {
    "name": "ipython",
    "version": 3
   },
   "file_extension": ".py",
   "mimetype": "text/x-python",
   "name": "python",
   "nbconvert_exporter": "python",
   "pygments_lexer": "ipython3",
   "version": "3.8.6"
  }
 },
 "nbformat": 4,
 "nbformat_minor": 2
}
